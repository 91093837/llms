{
 "cells": [
  {
   "cell_type": "code",
   "execution_count": 24,
   "metadata": {},
   "outputs": [],
   "source": [
    "from utils import load_json\n",
    "import pandas as pd "
   ]
  },
  {
   "cell_type": "code",
   "execution_count": null,
   "metadata": {},
   "outputs": [],
   "source": [
    "pct_chg = load_json(\"../database/nasdaq.json\")\n",
    "portfolio = load_json(\"../database/model_portfolio.json\")\n",
    "\n",
    "pct_chg = pd.DataFrame().from_dict(pct_chg)\n",
    "pct_chg = pct_chg.pivot(index=\"date_f\", columns=\"symbol\", values=\"percentageChange\")\n",
    "\n",
    "def metrics(pnl):\n",
    "    output = pd.Series()\n",
    "    shifts = [1, 5, 21, 63, 126]\n",
    "    for s in shifts:\n",
    "        output[f\"{s}d_sharpe\"] = pnl.rolling(s).mean().item() / pnl.rolling(s).std().item()\n",
    "        output[f\"{s}d_vol\"] = pnl.rolling(s).std().item()\n",
    "\n",
    "    output[\"max_drawdown\"] = (pnl.cummax() - pnl).max()\n",
    "    return output\n",
    "\n",
    "names = set(p[\"name\"] for p in portfolio)\n",
    "\n",
    "output = []\n",
    "for n in names:\n",
    "    w = {p[\"date\"]: p[\"portfolio\"] for p in portfolio if p[\"name\"] == n}\n",
    "    w = pd.DataFrame().from_dict(w).T\n",
    "    pnl = (w * pct_chg).sum(axis=1)\n",
    "    summary = metrics(pnl)\n",
    "    summary[\"name\"] = n\n",
    "    output.append(summary.to_dict())"
   ]
  },
  {
   "cell_type": "code",
   "execution_count": 88,
   "metadata": {},
   "outputs": [
    {
     "data": {
      "text/plain": [
       "[{'1d_sharpe': nan,\n",
       "  '1d_vol': nan,\n",
       "  '5d_sharpe': nan,\n",
       "  '5d_vol': nan,\n",
       "  '21d_sharpe': nan,\n",
       "  '21d_vol': nan,\n",
       "  '63d_sharpe': nan,\n",
       "  '63d_vol': nan,\n",
       "  '126d_sharpe': nan,\n",
       "  '126d_vol': nan,\n",
       "  '252d_sharpe': nan,\n",
       "  '252d_vol': nan,\n",
       "  'max_drawdown': 0.0,\n",
       "  'name': 'openai_fundamental'}]"
      ]
     },
     "execution_count": 88,
     "metadata": {},
     "output_type": "execute_result"
    }
   ],
   "source": [
    "output"
   ]
  },
  {
   "cell_type": "code",
   "execution_count": null,
   "metadata": {},
   "outputs": [],
   "source": []
  },
  {
   "cell_type": "code",
   "execution_count": null,
   "metadata": {},
   "outputs": [
    {
     "data": {
      "text/plain": [
       "1d_sharpe      NaN\n",
       "1d_vol         NaN\n",
       "5d_sharpe      NaN\n",
       "5d_vol         NaN\n",
       "21d_sharpe     NaN\n",
       "21d_vol        NaN\n",
       "63d_sharpe     NaN\n",
       "63d_vol        NaN\n",
       "126d_sharpe    NaN\n",
       "126d_vol       NaN\n",
       "252d_sharpe    NaN\n",
       "252d_vol       NaN\n",
       "dtype: object"
      ]
     },
     "execution_count": 72,
     "metadata": {},
     "output_type": "execute_result"
    }
   ],
   "source": []
  },
  {
   "cell_type": "code",
   "execution_count": null,
   "metadata": {},
   "outputs": [],
   "source": []
  },
  {
   "cell_type": "code",
   "execution_count": null,
   "metadata": {},
   "outputs": [],
   "source": []
  },
  {
   "cell_type": "code",
   "execution_count": null,
   "metadata": {},
   "outputs": [],
   "source": []
  }
 ],
 "metadata": {
  "kernelspec": {
   "display_name": "llms",
   "language": "python",
   "name": "python3"
  },
  "language_info": {
   "codemirror_mode": {
    "name": "ipython",
    "version": 3
   },
   "file_extension": ".py",
   "mimetype": "text/x-python",
   "name": "python",
   "nbconvert_exporter": "python",
   "pygments_lexer": "ipython3",
   "version": "3.12.7"
  }
 },
 "nbformat": 4,
 "nbformat_minor": 2
}
