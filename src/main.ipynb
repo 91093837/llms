{
 "cells": [
  {
   "cell_type": "code",
   "execution_count": 24,
   "metadata": {},
   "outputs": [],
   "source": [
    "from utils import load_json\n",
    "import pandas as pd "
   ]
  },
  {
   "cell_type": "code",
   "execution_count": null,
   "metadata": {},
   "outputs": [],
   "source": [
    "pct_chg = load_json(\"../database/nasdaq.json\")\n",
    "portfolio = load_json(\"../database/model_portfolio.json\")\n",
    "\n",
    "pct_chg = pd.DataFrame().from_dict(pct_chg)\n",
    "pct_chg = pct_chg.pivot(index=\"date_f\", columns=\"symbol\", values=\"percentageChange\")\n",
    "\n",
    "def metrics(pnl):\n",
    "    output = pd.Series()\n",
    "    shifts = [1, 5, 21, 63, 126]\n",
    "    for s in shifts:\n",
    "        output[f\"{s}d_sharpe\"] = pnl.rolling(s).mean().item() / pnl.rolling(s).std().item()\n",
    "        output[f\"{s}d_vol\"] = pnl.rolling(s).std().item()\n",
    "\n",
    "    output[\"max_drawdown\"] = (pnl.cummax() - pnl).max()\n",
    "    return output\n",
    "\n",
    "names = set(p[\"name\"] for p in portfolio)\n",
    "\n",
    "output = []\n",
    "for n in names:\n",
    "    w = {p[\"date\"]: p[\"portfolio\"] for p in portfolio if p[\"name\"] == n}\n",
    "    w = pd.DataFrame().from_dict(w).T\n",
    "    pnl = (w * pct_chg).sum(axis=1)\n",
    "    summary = metrics(pnl)\n",
    "    summary[\"name\"] = n\n",
    "    output.append(summary.to_dict())"
   ]
  },
  {
   "cell_type": "code",
   "execution_count": 88,
   "metadata": {},
   "outputs": [
    {
     "data": {
      "text/plain": [
       "[{'1d_sharpe': nan,\n",
       "  '1d_vol': nan,\n",
       "  '5d_sharpe': nan,\n",
       "  '5d_vol': nan,\n",
       "  '21d_sharpe': nan,\n",
       "  '21d_vol': nan,\n",
       "  '63d_sharpe': nan,\n",
       "  '63d_vol': nan,\n",
       "  '126d_sharpe': nan,\n",
       "  '126d_vol': nan,\n",
       "  '252d_sharpe': nan,\n",
       "  '252d_vol': nan,\n",
       "  'max_drawdown': 0.0,\n",
       "  'name': 'openai_fundamental'}]"
      ]
     },
     "execution_count": 88,
     "metadata": {},
     "output_type": "execute_result"
    }
   ],
   "source": [
    "output"
   ]
  },
  {
   "cell_type": "code",
   "execution_count": null,
   "metadata": {},
   "outputs": [],
   "source": []
  },
  {
   "cell_type": "code",
   "execution_count": null,
   "metadata": {},
   "outputs": [
    {
     "data": {
      "text/plain": [
       "1d_sharpe      NaN\n",
       "1d_vol         NaN\n",
       "5d_sharpe      NaN\n",
       "5d_vol         NaN\n",
       "21d_sharpe     NaN\n",
       "21d_vol        NaN\n",
       "63d_sharpe     NaN\n",
       "63d_vol        NaN\n",
       "126d_sharpe    NaN\n",
       "126d_vol       NaN\n",
       "252d_sharpe    NaN\n",
       "252d_vol       NaN\n",
       "dtype: object"
      ]
     },
     "execution_count": 72,
     "metadata": {},
     "output_type": "execute_result"
    }
   ],
   "source": []
  },
  {
   "cell_type": "code",
   "execution_count": 1,
   "metadata": {},
   "outputs": [],
   "source": [
    "from utils import (\n",
    "    load_json,\n",
    ")"
   ]
  },
  {
   "cell_type": "code",
   "execution_count": 6,
   "metadata": {},
   "outputs": [],
   "source": [
    "data = load_json(\"../database/nasdaq.json\")\n"
   ]
  },
  {
   "cell_type": "code",
   "execution_count": null,
   "metadata": {},
   "outputs": [],
   "source": []
  },
  {
   "cell_type": "code",
   "execution_count": null,
   "metadata": {},
   "outputs": [],
   "source": []
  },
  {
   "cell_type": "code",
   "execution_count": 9,
   "metadata": {},
   "outputs": [],
   "source": [
    "def load_tickers():\n",
    "    data = load_json(\"../database/nasdaq.json\")\n",
    "    ts = data[0][\"execution_ts\"]\n",
    "    data = [r for r in data if r[\"execution_ts\"] == ts]\n",
    "    return data"
   ]
  },
  {
   "cell_type": "code",
   "execution_count": 18,
   "metadata": {},
   "outputs": [],
   "source": [
    "from utils import (\n",
    "    load_jinja_prompt,\n",
    ")\n",
    "import datetime as dt"
   ]
  },
  {
   "cell_type": "code",
   "execution_count": 11,
   "metadata": {},
   "outputs": [],
   "source": [
    "tickers = load_tickers()"
   ]
  },
  {
   "cell_type": "code",
   "execution_count": 42,
   "metadata": {},
   "outputs": [],
   "source": [
    "symbols = tuple(f'{l[\"symbol\"]} ({l[\"companyName\"]})' for l in tickers)"
   ]
  },
  {
   "cell_type": "code",
   "execution_count": 47,
   "metadata": {},
   "outputs": [],
   "source": [
    "symbols = sorted([l[\"symbol\"] for l in tickers])"
   ]
  },
  {
   "cell_type": "code",
   "execution_count": 50,
   "metadata": {},
   "outputs": [
    {
     "data": {
      "text/plain": [
       "['AAPL',\n",
       " 'NVDA',\n",
       " 'MSFT',\n",
       " 'AMZN',\n",
       " 'GOOG',\n",
       " 'GOOGL',\n",
       " 'META',\n",
       " 'TSLA',\n",
       " 'AVGO',\n",
       " 'COST',\n",
       " 'NFLX',\n",
       " 'TMUS',\n",
       " 'ASML',\n",
       " 'CSCO',\n",
       " 'ADBE',\n",
       " 'AMD',\n",
       " 'PEP',\n",
       " 'LIN',\n",
       " 'AZN',\n",
       " 'ISRG',\n",
       " 'TXN',\n",
       " 'INTU',\n",
       " 'QCOM',\n",
       " 'BKNG',\n",
       " 'CMCSA',\n",
       " 'AMGN',\n",
       " 'HON',\n",
       " 'AMAT',\n",
       " 'ARM',\n",
       " 'PDD',\n",
       " 'PANW',\n",
       " 'ADP',\n",
       " 'VRTX',\n",
       " 'GILD',\n",
       " 'SBUX',\n",
       " 'APP',\n",
       " 'MU',\n",
       " 'ADI',\n",
       " 'INTC',\n",
       " 'MELI',\n",
       " 'LRCX',\n",
       " 'CTAS',\n",
       " 'KLAC',\n",
       " 'PYPL',\n",
       " 'ABNB',\n",
       " 'MDLZ',\n",
       " 'SNPS',\n",
       " 'CDNS',\n",
       " 'MRVL',\n",
       " 'CRWD',\n",
       " 'REGN',\n",
       " 'MAR',\n",
       " 'CEG',\n",
       " 'FTNT',\n",
       " 'DASH',\n",
       " 'ORLY',\n",
       " 'CSX',\n",
       " 'TEAM',\n",
       " 'WDAY',\n",
       " 'TTD',\n",
       " 'ADSK',\n",
       " 'PCAR',\n",
       " 'ROP',\n",
       " 'CPRT',\n",
       " 'NXPI',\n",
       " 'CHTR',\n",
       " 'MNST',\n",
       " 'AEP',\n",
       " 'PAYX',\n",
       " 'DDOG',\n",
       " 'ROST',\n",
       " 'FANG',\n",
       " 'ODFL',\n",
       " 'FAST',\n",
       " 'KDP',\n",
       " 'BKR',\n",
       " 'EA',\n",
       " 'LULU',\n",
       " 'XEL',\n",
       " 'VRSK',\n",
       " 'CTSH',\n",
       " 'EXC',\n",
       " 'KHC',\n",
       " 'GEHC',\n",
       " 'MCHP',\n",
       " 'CCEP',\n",
       " 'IDXX',\n",
       " 'CSGP',\n",
       " 'TTWO',\n",
       " 'ZS',\n",
       " 'DXCM',\n",
       " 'ON',\n",
       " 'ANSS',\n",
       " 'WBD',\n",
       " 'GFS',\n",
       " 'MDB',\n",
       " 'CDW',\n",
       " 'BIIB',\n",
       " 'ILMN',\n",
       " 'SMCI',\n",
       " 'MRNA']"
      ]
     },
     "execution_count": 50,
     "metadata": {},
     "output_type": "execute_result"
    }
   ],
   "source": [
    "[l[\"symbol\"] for l in tickers]"
   ]
  },
  {
   "cell_type": "code",
   "execution_count": null,
   "metadata": {},
   "outputs": [],
   "source": []
  }
 ],
 "metadata": {
  "kernelspec": {
   "display_name": "llms",
   "language": "python",
   "name": "python3"
  },
  "language_info": {
   "codemirror_mode": {
    "name": "ipython",
    "version": 3
   },
   "file_extension": ".py",
   "mimetype": "text/x-python",
   "name": "python",
   "nbconvert_exporter": "python",
   "pygments_lexer": "ipython3",
   "version": "3.12.7"
  }
 },
 "nbformat": 4,
 "nbformat_minor": 2
}
